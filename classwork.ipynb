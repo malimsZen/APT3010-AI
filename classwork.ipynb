{
 "cells": [
  {
   "cell_type": "code",
   "execution_count": 41,
   "id": "3a6a6f2b-3f8f-441e-af6e-a55510d07d10",
   "metadata": {},
   "outputs": [],
   "source": [
    "from Graph import Graph, Vertex\n",
    "from Queue import Queue"
   ]
  },
  {
   "cell_type": "markdown",
   "id": "1c426390-fd08-4d4f-a3af-26cc777d94e5",
   "metadata": {},
   "source": [
    "### BREADTH-FIRST SEARCH"
   ]
  },
  {
   "cell_type": "code",
   "execution_count": 42,
   "id": "ae412656-08a1-44f2-ab21-a723487640a2",
   "metadata": {
    "tags": []
   },
   "outputs": [],
   "source": [
    "def breadth_first_search(graph, start_vertex, distances = {}):\n",
    "    discovered_set = set()\n",
    "    frontier_queue = Queue()\n",
    "    visited_list = []\n",
    "    \n",
    "    distances[start_vertex] = 0 # start vertex has a distance of 0 from itself\n",
    "    \n",
    "    frontier_queue.enqueue(start_vertex)\n",
    "    discovered_set.add(start_vertex)\n",
    "    \n",
    "    while (frontier_queue.list.head != None):\n",
    "        current_vertex = frontier_queue.dequeue()\n",
    "        visited_list.append(current_vertex)\n",
    "        for adjacent_vertex in graph.adjancency_list[current_vertex]:\n",
    "            if adjacent_vertex not in discovered_set:\n",
    "                frontier_queue.enqueue(adjacent_vertex)\n",
    "                discovered_set.add(adjacent_vertex)\n",
    "                \n",
    "                distances[adjacent_vertex] = distances[current_vertex] + 1\n",
    "    return visited_list"
   ]
  },
  {
   "cell_type": "code",
   "execution_count": 43,
   "metadata": {},
   "outputs": [],
   "source": [
    "def depth_first_search(graph, start_vertex, visited_func):\n",
    "    vertex_stack = [start_vertex]\n",
    "    visited_set = set()\n",
    "    \n",
    "    while len(vertex_stack) > 0:\n",
    "        current_vertex = vertex_stack.pop()\n",
    "        if current_vertex not in visited_set:\n",
    "            visited_func(current_vertex)\n",
    "            visited_set.add(current_vertex)\n",
    "            for adjacent_vertex in graph.adjacency_list[current_vertex]:\n",
    "                vertex_stack.append(adjacent_vertex)\n",
    "                if adjacent_vertex not in visited_set:\n",
    "                    visited_func(adjacent_vertex)\n",
    "                    visited_set.add(adjacent_vertex)\n",
    "    return visited_set\n",
    "    \n"
   ]
  },
  {
   "cell_type": "code",
   "execution_count": 44,
   "id": "3078282f-6223-408f-ae71-31a090c43d33",
   "metadata": {
    "tags": []
   },
   "outputs": [],
   "source": [
    "g = Graph()\n",
    "vertex_a  =  Vertex('Joe')\n",
    "vertex_b  =  Vertex('Eva')\n",
    "vertex_c  =  Vertex('Taj')\n",
    "vertex_d  =  Vertex('Chen')\n",
    "vertex_e  =  Vertex('Lily')\n",
    "vertex_f  =  Vertex('Jun')\n",
    "vertex_g  =  Vertex('Ken')\n",
    "\n",
    "vertices = [vertex_a, vertex_b, vertex_c, vertex_d, vertex_e, vertex_f, vertex_g]\n",
    "\n",
    "for vertex in vertices:\n",
    "    g.add_vertex(vertex)"
   ]
  },
  {
   "cell_type": "code",
   "execution_count": 45,
   "id": "21bf2588-bd73-43dd-b622-242de958b8e7",
   "metadata": {
    "tags": []
   },
   "outputs": [
    {
     "name": "stdout",
     "output_type": "stream",
     "text": [
      "\n"
     ]
    }
   ],
   "source": [
    "g.add_undirected_edge(vertex_a, vertex_c)\n",
    "g.add_undirected_edge(vertex_b, vertex_e)\n",
    "g.add_undirected_edge(vertex_c, vertex_d)\n",
    "g.add_undirected_edge(vertex_c, vertex_e)\n",
    "g.add_undirected_edge(vertex_d, vertex_f)\n",
    "g.add_undirected_edge(vertex_e, vertex_f)\n",
    "g.add_undirected_edge(vertex_f, vertex_g)\n",
    "\n",
    "\n",
    "start_name = input(\"Enter starting person's name\")\n",
    "print()"
   ]
  },
  {
   "cell_type": "code",
   "execution_count": 46,
   "id": "0b551787-5b8d-42e6-83e5-fa462206ba09",
   "metadata": {
    "tags": []
   },
   "outputs": [
    {
     "name": "stdout",
     "output_type": "stream",
     "text": [
      "Start vertex not found raf\n"
     ]
    }
   ],
   "source": [
    "start_vertex = None\n",
    "\n",
    "for vertex in vertices:\n",
    "    if vertex.label == start_name:\n",
    "        start_vertex = vertex\n",
    "        \n",
    "if start_vertex is None:\n",
    "    print(f\"Start vertex not found {start_name}\")\n",
    "else:\n",
    "    vertex_distances = {}\n",
    "    visited_list = breadth_first_search(g, start_vertex, vertex_distances)\n",
    "    \n",
    "    print(\"Breadth-first search transerval\")\n",
    "    print(f\"start vertex {start_vertex.label}\")\n",
    "    for vertex in visited_list:\n",
    "        print(f\"{vertex.label} : {vertex_distances[vertex]}\")"
   ]
  },
  {
   "cell_type": "code",
   "execution_count": 47,
   "id": "e93e4f19-f600-456b-a1ff-987e0ea260f2",
   "metadata": {
    "tags": []
   },
   "outputs": [],
   "source": [
    "# server:\n",
    "\n",
    "g = Graph()\n",
    "vertex_a  =  Vertex('A')\n",
    "vertex_b  =  Vertex('B')\n",
    "vertex_c  =  Vertex('C')\n",
    "vertex_d  =  Vertex('D')\n",
    "vertex_e  =  Vertex('E')\n",
    "vertex_f  =  Vertex('F')\n",
    "vertex_g  =  Vertex('G')\n",
    "vertex_h  =  Vertex('H')\n",
    "vertex_i  =  Vertex('I')\n",
    "vertex_j  =  Vertex('J')\n",
    "\n",
    "\n",
    "vertices = [vertex_a, vertex_b, vertex_c, vertex_d, vertex_e, vertex_f, vertex_g, vertex_h, vertex_i, vertex_j]\n",
    "\n",
    "for vertex in vertices:\n",
    "    g.add_vertex(vertex)"
   ]
  },
  {
   "cell_type": "code",
   "execution_count": 48,
   "id": "f65c09c7-9a00-4674-8981-f28dff9b3964",
   "metadata": {
    "tags": []
   },
   "outputs": [
    {
     "name": "stdout",
     "output_type": "stream",
     "text": [
      "\n"
     ]
    }
   ],
   "source": [
    "g.add_undirected_edge(vertex_a, vertex_b)\n",
    "g.add_undirected_edge(vertex_b, vertex_c)\n",
    "g.add_undirected_edge(vertex_b, vertex_f)\n",
    "g.add_undirected_edge(vertex_c, vertex_d)\n",
    "g.add_undirected_edge(vertex_c, vertex_g)\n",
    "g.add_undirected_edge(vertex_d, vertex_g)\n",
    "g.add_undirected_edge(vertex_d, vertex_h)\n",
    "g.add_undirected_edge(vertex_e, vertex_b)\n",
    "g.add_undirected_edge(vertex_e, vertex_f)\n",
    "g.add_undirected_edge(vertex_e, vertex_i)\n",
    "g.add_undirected_edge(vertex_f, vertex_c)\n",
    "g.add_undirected_edge(vertex_f, vertex_i)\n",
    "g.add_undirected_edge(vertex_g, vertex_h)\n",
    "g.add_undirected_edge(vertex_g, vertex_j)\n",
    "\n",
    "\n",
    "\n",
    "start_name = input(\"Enter server's name\")\n",
    "print()"
   ]
  },
  {
   "cell_type": "code",
   "execution_count": 49,
   "id": "52184cc5-9df6-4644-a277-2dfa91940096",
   "metadata": {
    "tags": []
   },
   "outputs": [
    {
     "name": "stdout",
     "output_type": "stream",
     "text": [
      "Start vertex not found malo\n"
     ]
    }
   ],
   "source": [
    "star_vertex = None\n",
    "\n",
    "for vertex in vertices:\n",
    "    if vertex.label == start_name:\n",
    "        start_vertex = vertex\n",
    "        \n",
    "if start_vertex is None:\n",
    "    print(f\"Start vertex not found {start_name}\")\n",
    "else:\n",
    "    vertex_distances = {}\n",
    "    visited_list = breadth_first_search(g, start_vertex, vertex_distances)\n",
    "    \n",
    "    print(\"Breadth-first search transerval\")\n",
    "    print(f\"start vertex {start_vertex.label}\")\n",
    "    for vertex in visited_list:\n",
    "        print(f\"{vertex.label} : {vertex_distances[vertex]}\")"
   ]
  },
  {
   "cell_type": "markdown",
   "id": "c5296d59-63bc-4809-ad12-78863886211a",
   "metadata": {},
   "source": [
    "### DEPTH-FIRST SEARCH"
   ]
  },
  {
   "cell_type": "code",
   "execution_count": 50,
   "id": "2e09165b-bddd-47f3-b2f2-1d3b3364038c",
   "metadata": {},
   "outputs": [],
   "source": [
    "from Graph import Vertex, Graph"
   ]
  },
  {
   "cell_type": "code",
   "execution_count": 51,
   "id": "ab2e5184",
   "metadata": {},
   "outputs": [],
   "source": [
    "def depth_first_search(graph, start_vertex, visitor, visited=None):\n",
    "    if visited is None:\n",
    "        visited = set()\n",
    "    visitor(start_vertex)\n",
    "    visited.add(start_vertex)\n",
    "    for neighbor in graph.adjacency_list[start_vertex]:\n",
    "        if neighbor not in visited:\n",
    "            depth_first_search(graph, neighbor, visitor, visited)"
   ]
  },
  {
   "cell_type": "code",
   "execution_count": 52,
   "id": "642c2463",
   "metadata": {},
   "outputs": [
    {
     "name": "stdout",
     "output_type": "stream",
     "text": [
      "Graph 1 : A B E F C D \n",
      "\n",
      "Graph 2 : A B C F E D \n",
      "\n",
      "Graph 3 : A B C E D F \n",
      "\n"
     ]
    }
   ],
   "source": [
    "import time\n",
    "\n",
    "class Graph:\n",
    "    def __init__(self):\n",
    "        self.vertices = {}\n",
    "        self.adjacency_list = {}  # Add adjacency_list attribute\n",
    "    \n",
    "    def add_vertex(self, vertex):\n",
    "        self.vertices[vertex.label] = vertex\n",
    "        self.adjacency_list[vertex] = []  # Initialize adjacency list for the vertex\n",
    "    \n",
    "    def get_vertex(self, label):\n",
    "        return self.vertices[label]\n",
    "    \n",
    "    def add_undirected_edge(self, vertex1, vertex2):\n",
    "        vertex1.add_neighbor(vertex2)\n",
    "        vertex2.add_neighbor(vertex1)\n",
    "        self.adjacency_list[vertex1].append(vertex2)  # Update adjacency list\n",
    "        self.adjacency_list[vertex2].append(vertex1)  # Update adjacency list\n",
    "\n",
    "class Vertex:\n",
    "    def __init__(self, label):\n",
    "        self.label = label\n",
    "        self.neighbors = []\n",
    "    \n",
    "    def add_neighbor(self, vertex):\n",
    "        self.neighbors.append(vertex)\n",
    "    \n",
    "    def get_neighbors(self):\n",
    "        return self.neighbors\n",
    "\n",
    "def depth_first_search(graph, start_vertex, visitor, visited=None):\n",
    "    if visited is None:\n",
    "        visited = set()\n",
    "    visitor(start_vertex)\n",
    "    visited.add(start_vertex)\n",
    "    for neighbor in graph.adjacency_list[start_vertex]:\n",
    "        if neighbor not in visited:\n",
    "            depth_first_search(graph, neighbor, visitor, visited)\n",
    "\n",
    "vertex_names = ['A', 'B', 'C', 'D', 'E', 'F']\n",
    "\n",
    "graph1 = Graph()\n",
    "graph2 = Graph()\n",
    "graph3 = Graph()\n",
    "graphs = [graph1, graph2, graph3]\n",
    "\n",
    "for vertex_name in vertex_names:\n",
    "    for graph in graphs:\n",
    "        graph.add_vertex(Vertex(vertex_name))\n",
    "\n",
    "# graph1's edges\n",
    "graph1.add_undirected_edge(graph1.get_vertex(\"A\"), graph1.get_vertex(\"B\"))\n",
    "graph1.add_undirected_edge(graph1.get_vertex(\"A\"), graph1.get_vertex(\"D\"))\n",
    "graph1.add_undirected_edge(graph1.get_vertex(\"B\"), graph1.get_vertex(\"E\"))\n",
    "graph1.add_undirected_edge(graph1.get_vertex(\"B\"), graph1.get_vertex(\"F\"))\n",
    "graph1.add_undirected_edge(graph1.get_vertex(\"C\"), graph1.get_vertex(\"F\"))\n",
    "graph1.add_undirected_edge(graph1.get_vertex(\"E\"), graph1.get_vertex(\"F\"))\n",
    "\n",
    "# graph2's edges\n",
    "graph2.add_undirected_edge(graph2.get_vertex(\"A\"), graph2.get_vertex(\"B\"))\n",
    "graph2.add_undirected_edge(graph2.get_vertex(\"B\"), graph2.get_vertex(\"C\"))\n",
    "graph2.add_undirected_edge(graph2.get_vertex(\"C\"), graph2.get_vertex(\"F\"))\n",
    "graph2.add_undirected_edge(graph2.get_vertex(\"D\"), graph2.get_vertex(\"E\"))\n",
    "graph2.add_undirected_edge(graph2.get_vertex(\"E\"), graph2.get_vertex(\"F\"))\n",
    "\n",
    "# graph3's edges\n",
    "graph3.add_undirected_edge(graph3.get_vertex(\"A\"), graph3.get_vertex(\"B\"))\n",
    "graph3.add_undirected_edge(graph3.get_vertex(\"A\"), graph3.get_vertex(\"E\"))\n",
    "graph3.add_undirected_edge(graph3.get_vertex(\"B\"), graph3.get_vertex(\"C\"))\n",
    "graph3.add_undirected_edge(graph3.get_vertex(\"B\"), graph3.get_vertex(\"E\"))\n",
    "graph3.add_undirected_edge(graph3.get_vertex(\"C\"), graph3.get_vertex(\"E\"))\n",
    "graph3.add_undirected_edge(graph3.get_vertex(\"D\"), graph3.get_vertex(\"E\"))\n",
    "graph3.add_undirected_edge(graph3.get_vertex(\"E\"), graph3.get_vertex(\"F\"))\n",
    "\n",
    "\n",
    "visitor = lambda x: print(x.label, end = ' ')\n",
    "\n",
    "start_vertex_label = \"A\"\n",
    "\n",
    "for i in range(0, len(graphs)):\n",
    "    print(f\"Graph {i+1} : \", end=\"\")\n",
    "    depth_first_search(graphs[i], graphs[i].get_vertex(start_vertex_label), visitor)\n",
    "    print(\"\\n\")"
   ]
  },
  {
   "cell_type": "code",
   "execution_count": null,
   "id": "2c5269d4",
   "metadata": {},
   "outputs": [],
   "source": []
  }
 ],
 "metadata": {
  "kernelspec": {
   "display_name": "Python 3 (ipykernel)",
   "language": "python",
   "name": "python3"
  },
  "language_info": {
   "codemirror_mode": {
    "name": "ipython",
    "version": 3
   },
   "file_extension": ".py",
   "mimetype": "text/x-python",
   "name": "python",
   "nbconvert_exporter": "python",
   "pygments_lexer": "ipython3",
   "version": "3.11.6"
  }
 },
 "nbformat": 4,
 "nbformat_minor": 5
}
