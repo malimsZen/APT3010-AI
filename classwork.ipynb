{
 "cells": [
  {
   "cell_type": "code",
   "execution_count": 6,
   "id": "3a6a6f2b-3f8f-441e-af6e-a55510d07d10",
   "metadata": {},
   "outputs": [],
   "source": [
    "from Graph import Graph, Vertex\n",
    "from Queue import Queue"
   ]
  },
  {
   "cell_type": "markdown",
   "id": "1c426390-fd08-4d4f-a3af-26cc777d94e5",
   "metadata": {},
   "source": [
    "### BREADTH-FIRST SEARCH"
   ]
  },
  {
   "cell_type": "code",
   "execution_count": 7,
   "id": "ae412656-08a1-44f2-ab21-a723487640a2",
   "metadata": {
    "tags": []
   },
   "outputs": [],
   "source": [
    "def breadth_first_search(graph, start_vertex, distances = {}):\n",
    "    discovered_set = set()\n",
    "    frontier_queue = Queue()\n",
    "    visited_list = []\n",
    "    \n",
    "    distances[start_vertex] = 0 # start vertex has a distance of 0 from itself\n",
    "    \n",
    "    frontier_queue.enqueue(start_vertex)\n",
    "    discovered_set.add(start_vertex)\n",
    "    \n",
    "    while (frontier_queue.list.head != None):\n",
    "        current_vertex = frontier_queue.dequeue()\n",
    "        visited_list.append(current_vertex)\n",
    "        for adjacent_vertex in graph.adjancency_list[current_vertex]:\n",
    "            if adjacent_vertex not in discovered_set:\n",
    "                frontier_queue.enqueue(adjacent_vertex)\n",
    "                discovered_set.add(adjacent_vertex)\n",
    "                \n",
    "                distances[adjacent_vertex] = distances[current_vertex] + 1\n",
    "    return visited_list"
   ]
  },
  {
   "cell_type": "code",
   "execution_count": 8,
   "id": "3078282f-6223-408f-ae71-31a090c43d33",
   "metadata": {
    "tags": []
   },
   "outputs": [],
   "source": [
    "g = Graph()\n",
    "vertex_a  =  Vertex('Joe')\n",
    "vertex_b  =  Vertex('Eva')\n",
    "vertex_c  =  Vertex('Taj')\n",
    "vertex_d  =  Vertex('Chen')\n",
    "vertex_e  =  Vertex('Lily')\n",
    "vertex_f  =  Vertex('Jun')\n",
    "vertex_g  =  Vertex('Ken')\n",
    "\n",
    "vertices = [vertex_a, vertex_b, vertex_c, vertex_d, vertex_e, vertex_f, vertex_g]\n",
    "\n",
    "for vertex in vertices:\n",
    "    g.add_vertex(vertex)"
   ]
  },
  {
   "cell_type": "code",
   "execution_count": 9,
   "id": "21bf2588-bd73-43dd-b622-242de958b8e7",
   "metadata": {
    "tags": []
   },
   "outputs": [
    {
     "name": "stdout",
     "output_type": "stream",
     "text": [
      "\n"
     ]
    }
   ],
   "source": [
    "g.add_undirected_edge(vertex_a, vertex_c)\n",
    "g.add_undirected_edge(vertex_b, vertex_e)\n",
    "g.add_undirected_edge(vertex_c, vertex_d)\n",
    "g.add_undirected_edge(vertex_c, vertex_e)\n",
    "g.add_undirected_edge(vertex_d, vertex_f)\n",
    "g.add_undirected_edge(vertex_e, vertex_f)\n",
    "g.add_undirected_edge(vertex_f, vertex_g)\n",
    "\n",
    "\n",
    "start_name = input(\"Enter starting person's name\")\n",
    "print()"
   ]
  },
  {
   "cell_type": "code",
   "execution_count": 10,
   "id": "0b551787-5b8d-42e6-83e5-fa462206ba09",
   "metadata": {
    "tags": []
   },
   "outputs": [
    {
     "ename": "NameError",
     "evalue": "name 'Node' is not defined",
     "output_type": "error",
     "traceback": [
      "\u001b[0;31m---------------------------------------------------------------------------\u001b[0m",
      "\u001b[0;31mNameError\u001b[0m                                 Traceback (most recent call last)",
      "Cell \u001b[0;32mIn[10], line 11\u001b[0m\n\u001b[1;32m      9\u001b[0m \u001b[38;5;28;01melse\u001b[39;00m:\n\u001b[1;32m     10\u001b[0m     vertex_distances \u001b[38;5;241m=\u001b[39m {}\n\u001b[0;32m---> 11\u001b[0m     visited_list \u001b[38;5;241m=\u001b[39m \u001b[43mbreadth_first_search\u001b[49m\u001b[43m(\u001b[49m\u001b[43mg\u001b[49m\u001b[43m,\u001b[49m\u001b[43m \u001b[49m\u001b[43mstart_vertex\u001b[49m\u001b[43m,\u001b[49m\u001b[43m \u001b[49m\u001b[43mvertex_distances\u001b[49m\u001b[43m)\u001b[49m\n\u001b[1;32m     13\u001b[0m     \u001b[38;5;28mprint\u001b[39m(\u001b[38;5;124m\"\u001b[39m\u001b[38;5;124mBreadth-first search transerval\u001b[39m\u001b[38;5;124m\"\u001b[39m)\n\u001b[1;32m     14\u001b[0m     \u001b[38;5;28mprint\u001b[39m(\u001b[38;5;124mf\u001b[39m\u001b[38;5;124m\"\u001b[39m\u001b[38;5;124mstart vertex \u001b[39m\u001b[38;5;132;01m{\u001b[39;00mstart_vertex\u001b[38;5;241m.\u001b[39mlabel\u001b[38;5;132;01m}\u001b[39;00m\u001b[38;5;124m\"\u001b[39m)\n",
      "Cell \u001b[0;32mIn[7], line 8\u001b[0m, in \u001b[0;36mbreadth_first_search\u001b[0;34m(graph, start_vertex, distances)\u001b[0m\n\u001b[1;32m      4\u001b[0m visited_list \u001b[38;5;241m=\u001b[39m []\n\u001b[1;32m      6\u001b[0m distances[start_vertex] \u001b[38;5;241m=\u001b[39m \u001b[38;5;241m0\u001b[39m \u001b[38;5;66;03m# start vertex has a distance of 0 from itself\u001b[39;00m\n\u001b[0;32m----> 8\u001b[0m \u001b[43mfrontier_queue\u001b[49m\u001b[38;5;241;43m.\u001b[39;49m\u001b[43menqueue\u001b[49m\u001b[43m(\u001b[49m\u001b[43mstart_vertex\u001b[49m\u001b[43m)\u001b[49m\n\u001b[1;32m      9\u001b[0m discovered_set\u001b[38;5;241m.\u001b[39madd(start_vertex)\n\u001b[1;32m     11\u001b[0m \u001b[38;5;28;01mwhile\u001b[39;00m (frontier_queue\u001b[38;5;241m.\u001b[39mlist\u001b[38;5;241m.\u001b[39mhead \u001b[38;5;241m!=\u001b[39m \u001b[38;5;28;01mNone\u001b[39;00m):\n",
      "File \u001b[0;32m~/Zen/APT3010-AI/Queue.py:9\u001b[0m, in \u001b[0;36mQueue.enqueue\u001b[0;34m(self, new_item)\u001b[0m\n\u001b[1;32m      8\u001b[0m \u001b[38;5;28;01mdef\u001b[39;00m \u001b[38;5;21menqueue\u001b[39m(\u001b[38;5;28mself\u001b[39m, new_item):\n\u001b[0;32m----> 9\u001b[0m     new_node \u001b[38;5;241m=\u001b[39m \u001b[43mNode\u001b[49m(new_item)\n\u001b[1;32m     10\u001b[0m     \u001b[38;5;28mself\u001b[39m\u001b[38;5;241m.\u001b[39mlist\u001b[38;5;241m.\u001b[39mappend(new_node)\n",
      "\u001b[0;31mNameError\u001b[0m: name 'Node' is not defined"
     ]
    }
   ],
   "source": [
    "star_vertex = None\n",
    "\n",
    "for vertex in vertices:\n",
    "    if vertex.label == start_name:\n",
    "        start_vertex = vertex\n",
    "        \n",
    "if start_vertex is None:\n",
    "    print(f\"Start vertex not found {start_name}\")\n",
    "else:\n",
    "    vertex_distances = {}\n",
    "    visited_list = breadth_first_search(g, start_vertex, vertex_distances)\n",
    "    \n",
    "    print(\"Breadth-first search transerval\")\n",
    "    print(f\"start vertex {start_vertex.label}\")\n",
    "    for vertex in visited_list:\n",
    "        print(f\"{vertex.label} : {vertex_distances[vertex]}\")"
   ]
  },
  {
   "cell_type": "code",
   "execution_count": null,
   "id": "e93e4f19-f600-456b-a1ff-987e0ea260f2",
   "metadata": {
    "tags": []
   },
   "outputs": [],
   "source": [
    "# server:\n",
    "\n",
    "g = Graph()\n",
    "vertex_a  =  Vertex('A')\n",
    "vertex_b  =  Vertex('B')\n",
    "vertex_c  =  Vertex('C')\n",
    "vertex_d  =  Vertex('D')\n",
    "vertex_e  =  Vertex('E')\n",
    "vertex_f  =  Vertex('F')\n",
    "vertex_g  =  Vertex('G')\n",
    "vertex_h  =  Vertex('H')\n",
    "vertex_i  =  Vertex('I')\n",
    "vertex_j  =  Vertex('J')\n",
    "\n",
    "\n",
    "vertices = [vertex_a, vertex_b, vertex_c, vertex_d, vertex_e, vertex_f, vertex_g, vertex_h, vertex_i, vertex_j]\n",
    "\n",
    "for vertex in vertices:\n",
    "    g.add_vertex(vertex)"
   ]
  },
  {
   "cell_type": "code",
   "execution_count": null,
   "id": "f65c09c7-9a00-4674-8981-f28dff9b3964",
   "metadata": {
    "tags": []
   },
   "outputs": [],
   "source": [
    "g.add_undirected_edge(vertex_a, vertex_b)\n",
    "g.add_undirected_edge(vertex_b, vertex_c)\n",
    "g.add_undirected_edge(vertex_b, vertex_f)\n",
    "g.add_undirected_edge(vertex_c, vertex_d)\n",
    "g.add_undirected_edge(vertex_c, vertex_g)\n",
    "g.add_undirected_edge(vertex_d, vertex_g)\n",
    "g.add_undirected_edge(vertex_d, vertex_h)\n",
    "g.add_undirected_edge(vertex_e, vertex_b)\n",
    "g.add_undirected_edge(vertex_e, vertex_f)\n",
    "g.add_undirected_edge(vertex_e, vertex_i)\n",
    "g.add_undirected_edge(vertex_f, vertex_c)\n",
    "g.add_undirected_edge(vertex_f, vertex_i)\n",
    "g.add_undirected_edge(vertex_g, vertex_h)\n",
    "g.add_undirected_edge(vertex_g, vertex_j)\n",
    "\n",
    "\n",
    "\n",
    "start_name = input(\"Enter server's name\")\n",
    "print()"
   ]
  },
  {
   "cell_type": "code",
   "execution_count": null,
   "id": "52184cc5-9df6-4644-a277-2dfa91940096",
   "metadata": {
    "tags": []
   },
   "outputs": [],
   "source": [
    "star_vertex = None\n",
    "\n",
    "for vertex in vertices:\n",
    "    if vertex.label == start_name:\n",
    "        start_vertex = vertex\n",
    "        \n",
    "if start_vertex is None:\n",
    "    print(f\"Start vertex not found {start_name}\")\n",
    "else:\n",
    "    vertex_distances = {}\n",
    "    visited_list = breadth_first_search(g, start_vertex, vertex_distances)\n",
    "    \n",
    "    print(\"Breadth-first search transerval\")\n",
    "    print(f\"start vertex {start_vertex.label}\")\n",
    "    for vertex in visited_list:\n",
    "        print(f\"{vertex.label} : {vertex_distances[vertex]}\")"
   ]
  },
  {
   "cell_type": "markdown",
   "id": "c5296d59-63bc-4809-ad12-78863886211a",
   "metadata": {},
   "source": [
    "### DEPTH-FIRST SEARCH"
   ]
  },
  {
   "cell_type": "code",
   "execution_count": null,
   "id": "2e09165b-bddd-47f3-b2f2-1d3b3364038c",
   "metadata": {},
   "outputs": [],
   "source": [
    "from Graph import Vertex, Graph"
   ]
  },
  {
   "cell_type": "code",
   "execution_count": null,
   "id": "ab2e5184",
   "metadata": {},
   "outputs": [],
   "source": [
    "def depth_first_search(graph, start_vertex, visited_func):\n",
    "    vertex_stack = [start_vertex]\n",
    "    visited_set = set()\n",
    "    \n",
    "    while len(vertex_stack) > 0:\n",
    "        current_vertex = vertex_stack.pop()\n",
    "        if current_vertex not in visited_set:\n",
    "            visited_func(current_vertex)\n",
    "            visited_set.add(current_vertex)\n",
    "            for adjacent_vertex in graph.adjancency_list[current_vertex]:\n",
    "                vertex_stack.append(adjacent_vertex)"
   ]
  },
  {
   "cell_type": "code",
   "execution_count": null,
   "id": "642c2463",
   "metadata": {},
   "outputs": [
    {
     "name": "stdout",
     "output_type": "stream",
     "text": [
      "Graph 1 : A D B F E C \n",
      "\n",
      "Graph 2 : A B C F E D \n",
      "\n",
      "Graph 3 : A E F D C B \n",
      "\n"
     ]
    }
   ],
   "source": [
    "vertex_names = ['A', 'B', 'C', 'D', 'E', 'F']\n",
    "\n",
    "graph1 = Graph()\n",
    "graph2 = Graph()\n",
    "graph3 = Graph()\n",
    "graphs = [graph1, graph2, graph3]\n",
    "\n",
    "for vertex_name in vertex_names:\n",
    "    for graph in graphs:\n",
    "        graph.add_vertex(Vertex(vertex_name))\n",
    "        \n",
    "\n",
    "# graph1's edges\n",
    "graph1.add_undirected_edge(graph1.get_vertex(\"A\"), graph1.get_vertex(\"B\"))\n",
    "graph1.add_undirected_edge(graph1.get_vertex(\"A\"), graph1.get_vertex(\"D\"))\n",
    "graph1.add_undirected_edge(graph1.get_vertex(\"B\"), graph1.get_vertex(\"E\"))\n",
    "graph1.add_undirected_edge(graph1.get_vertex(\"B\"), graph1.get_vertex(\"F\"))\n",
    "graph1.add_undirected_edge(graph1.get_vertex(\"C\"), graph1.get_vertex(\"F\"))\n",
    "graph1.add_undirected_edge(graph1.get_vertex(\"E\"), graph1.get_vertex(\"F\"))\n",
    "\n",
    "# graph2's edges\n",
    "graph2.add_undirected_edge(graph2.get_vertex(\"A\"), graph2.get_vertex(\"B\"))\n",
    "graph2.add_undirected_edge(graph2.get_vertex(\"B\"), graph2.get_vertex(\"C\"))\n",
    "graph2.add_undirected_edge(graph2.get_vertex(\"C\"), graph2.get_vertex(\"F\"))\n",
    "graph2.add_undirected_edge(graph2.get_vertex(\"D\"), graph2.get_vertex(\"E\"))\n",
    "graph2.add_undirected_edge(graph2.get_vertex(\"E\"), graph2.get_vertex(\"F\"))\n",
    "\n",
    "# graph3's edges\n",
    "graph3.add_undirected_edge(graph3.get_vertex(\"A\"), graph3.get_vertex(\"B\"))\n",
    "graph3.add_undirected_edge(graph3.get_vertex(\"A\"), graph3.get_vertex(\"E\"))\n",
    "graph3.add_undirected_edge(graph3.get_vertex(\"B\"), graph3.get_vertex(\"C\"))\n",
    "graph3.add_undirected_edge(graph3.get_vertex(\"B\"), graph3.get_vertex(\"E\"))\n",
    "graph3.add_undirected_edge(graph3.get_vertex(\"C\"), graph3.get_vertex(\"E\"))\n",
    "graph3.add_undirected_edge(graph3.get_vertex(\"D\"), graph3.get_vertex(\"E\"))\n",
    "graph3.add_undirected_edge(graph3.get_vertex(\"E\"), graph3.get_vertex(\"F\"))\n",
    "\n",
    "visitor = lambda x: print(x.label, end = ' ')\n",
    "\n",
    "start_vertex_label = \"A\"\n",
    "\n",
    "for i in range(0, len(graphs)):\n",
    "    print(f\"Graph {i+1} : \", end=\"\")\n",
    "    depth_first_search(graphs[i], graphs[i].get_vertex(start_vertex_label), visitor)\n",
    "    print(\"\\n\")"
   ]
  },
  {
   "cell_type": "code",
   "execution_count": null,
   "id": "2c5269d4",
   "metadata": {},
   "outputs": [],
   "source": []
  }
 ],
 "metadata": {
  "kernelspec": {
   "display_name": "Python 3 (ipykernel)",
   "language": "python",
   "name": "python3"
  },
  "language_info": {
   "codemirror_mode": {
    "name": "ipython",
    "version": 3
   },
   "file_extension": ".py",
   "mimetype": "text/x-python",
   "name": "python",
   "nbconvert_exporter": "python",
   "pygments_lexer": "ipython3",
   "version": "3.11.6"
  }
 },
 "nbformat": 4,
 "nbformat_minor": 5
}
